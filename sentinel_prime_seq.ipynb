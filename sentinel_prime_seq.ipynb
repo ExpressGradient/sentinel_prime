{
  "nbformat": 4,
  "nbformat_minor": 0,
  "metadata": {
    "colab": {
      "name": "sentinel_prime_seq.ipynb",
      "provenance": [],
      "mount_file_id": "1ElSr8VDa_JNRN6A6RjTndOIstu1ToXAK",
      "authorship_tag": "ABX9TyM46gATv34Bp9cXzpa2CMzF",
      "include_colab_link": true
    },
    "kernelspec": {
      "name": "python3",
      "display_name": "Python 3"
    },
    "language_info": {
      "name": "python"
    },
    "accelerator": "TPU"
  },
  "cells": [
    {
      "cell_type": "markdown",
      "metadata": {
        "id": "view-in-github",
        "colab_type": "text"
      },
      "source": [
        "<a href=\"https://colab.research.google.com/github/ExpressGradient/sentinel_prime/blob/main/sentinel_prime_seq.ipynb\" target=\"_parent\"><img src=\"https://colab.research.google.com/assets/colab-badge.svg\" alt=\"Open In Colab\"/></a>"
      ]
    },
    {
      "cell_type": "code",
      "metadata": {
        "id": "hsTd8Gt_ml-r"
      },
      "source": [
        "import tensorflow as tf\n",
        "import numpy as np\n",
        "import pandas as pd\n",
        "import math\n",
        "from tensorflow import keras"
      ],
      "execution_count": null,
      "outputs": []
    },
    {
      "cell_type": "code",
      "metadata": {
        "id": "4-t7fW3mp4c7"
      },
      "source": [
        "df = pd.read_csv('drive/My Drive/stock_data.csv')\n",
        "df = df.replace(-1, 0)\n",
        "\n",
        "ds = df.to_numpy()\n",
        "\n",
        "train_ds, test_ds = ds[:math.floor(0.8 * ds.shape[0])], ds[math.floor(0.8 * ds.shape[0]):]\n",
        "\n",
        "train_x, train_y = train_ds[:, 0], train_ds[:, 1]"
      ],
      "execution_count": null,
      "outputs": []
    },
    {
      "cell_type": "code",
      "metadata": {
        "id": "5vuRY-xnpnHI"
      },
      "source": [
        "max_length = 30\n",
        "\n",
        "text_vectorizer = keras.layers.TextVectorization(\n",
        "    max_tokens=10000,\n",
        "    output_mode='int',\n",
        "    output_sequence_length=max_length\n",
        ")\n",
        "\n",
        "text_vectorizer.adapt(train_x)"
      ],
      "execution_count": null,
      "outputs": []
    },
    {
      "cell_type": "code",
      "metadata": {
        "colab": {
          "base_uri": "https://localhost:8080/"
        },
        "id": "-RDVNgmtn7ZL",
        "outputId": "4c9c5c9d-ea84-40ad-924a-8a16c8744e3a"
      },
      "source": [
        "embeddings_index = {}\n",
        "\n",
        "with open('drive/My Drive/twitter_glove_200d.txt') as f:\n",
        "  for line in f:\n",
        "    word, coefs = line.split(maxsplit=1)\n",
        "    coefs = np.fromstring(coefs, sep=\" \")\n",
        "    embeddings_index[word] = coefs\n",
        "\n",
        "len(embeddings_index)"
      ],
      "execution_count": null,
      "outputs": [
        {
          "output_type": "execute_result",
          "data": {
            "text/plain": [
              "1193515"
            ]
          },
          "metadata": {},
          "execution_count": 14
        }
      ]
    },
    {
      "cell_type": "code",
      "metadata": {
        "id": "y_0xX_FmpQvZ"
      },
      "source": [
        "embedding_dim = 200\n",
        "max_tokens = 10000\n",
        "\n",
        "vocabulary = text_vectorizer.get_vocabulary()\n",
        "word_index = dict(zip(vocabulary, range(len(vocabulary))))\n",
        "\n",
        "embedding_matrix = np.zeros((max_tokens, embedding_dim))\n",
        "\n",
        "for word, i in word_index.items():\n",
        "  if i < max_tokens:\n",
        "    embedding_vector = embeddings_index.get(word)\n",
        "  if embedding_vector is not None:\n",
        "    embedding_matrix[i] = embedding_vector"
      ],
      "execution_count": null,
      "outputs": []
    },
    {
      "cell_type": "code",
      "metadata": {
        "id": "RR14BDctrkRF"
      },
      "source": [
        "model = keras.Sequential([\n",
        "                          keras.Input(shape=(None,), dtype='int64'),\n",
        "                          keras.layers.Embedding(\n",
        "                            max_tokens,\n",
        "                            embedding_dim,\n",
        "                            embeddings_initializer=keras.initializers.Constant(embedding_matrix),\n",
        "                            trainable=False,\n",
        "                            mask_zero=True\n",
        "                          ),\n",
        "                          keras.layers.Bidirectional(\n",
        "                              keras.layers.LSTM(32)\n",
        "                          ),\n",
        "                          keras.layers.Dropout(0.3),\n",
        "                          keras.layers.Dense(1, activation='sigmoid')\n",
        "])"
      ],
      "execution_count": null,
      "outputs": []
    },
    {
      "cell_type": "code",
      "metadata": {
        "id": "_jKeDdBI6gKk"
      },
      "source": [
        "model.compile(\n",
        "    optimizer=\"rmsprop\",\n",
        "    loss=\"binary_crossentropy\",\n",
        "    metrics=[\"accuracy\"]\n",
        ")"
      ],
      "execution_count": null,
      "outputs": []
    },
    {
      "cell_type": "code",
      "metadata": {
        "colab": {
          "base_uri": "https://localhost:8080/"
        },
        "id": "IwTKF7SyqTsD",
        "outputId": "423b405b-696c-47d1-cf17-a6aabae65b1c"
      },
      "source": [
        "vectorized_train_x = text_vectorizer(train_x)\n",
        "\n",
        "model.fit(vectorized_train_x, train_y.astype('float32'), epochs=5, validation_split=0.2)"
      ],
      "execution_count": null,
      "outputs": [
        {
          "output_type": "stream",
          "name": "stdout",
          "text": [
            "Epoch 1/5\n",
            "116/116 [==============================] - 17s 72ms/step - loss: 0.5974 - accuracy: 0.7001 - val_loss: 0.5993 - val_accuracy: 0.6742\n",
            "Epoch 2/5\n",
            "116/116 [==============================] - 5s 43ms/step - loss: 0.5192 - accuracy: 0.7433 - val_loss: 0.5494 - val_accuracy: 0.7228\n",
            "Epoch 3/5\n",
            "116/116 [==============================] - 5s 43ms/step - loss: 0.4746 - accuracy: 0.7695 - val_loss: 0.5138 - val_accuracy: 0.7530\n",
            "Epoch 4/5\n",
            "116/116 [==============================] - 5s 45ms/step - loss: 0.4338 - accuracy: 0.7978 - val_loss: 0.5164 - val_accuracy: 0.7433\n",
            "Epoch 5/5\n",
            "116/116 [==============================] - 5s 44ms/step - loss: 0.3999 - accuracy: 0.8197 - val_loss: 0.5626 - val_accuracy: 0.6926\n"
          ]
        },
        {
          "output_type": "execute_result",
          "data": {
            "text/plain": [
              "<keras.callbacks.History at 0x7f9877aaf350>"
            ]
          },
          "metadata": {},
          "execution_count": 18
        }
      ]
    },
    {
      "cell_type": "code",
      "metadata": {
        "colab": {
          "base_uri": "https://localhost:8080/"
        },
        "id": "TKIBVIWVr4yT",
        "outputId": "7d57bafe-95fa-45c8-c905-e8b4fa230825"
      },
      "source": [
        "test_x, test_y = test_ds[:, 0], test_ds[:, 1]\n",
        "vectorized_test_x = text_vectorizer(test_x)\n",
        "\n",
        "model.evaluate(vectorized_test_x, test_y.astype('float32'))"
      ],
      "execution_count": null,
      "outputs": [
        {
          "output_type": "stream",
          "name": "stdout",
          "text": [
            "37/37 [==============================] - 1s 13ms/step - loss: 0.6822 - accuracy: 0.6299\n"
          ]
        },
        {
          "output_type": "execute_result",
          "data": {
            "text/plain": [
              "[0.6821937561035156, 0.6298533082008362]"
            ]
          },
          "metadata": {},
          "execution_count": 19
        }
      ]
    },
    {
      "cell_type": "code",
      "metadata": {
        "colab": {
          "base_uri": "https://localhost:8080/"
        },
        "id": "xtBkPhEPqYJU",
        "outputId": "c44da081-e335-4f1d-cb80-e3b80ab75e23"
      },
      "source": [
        "model.predict(x=text_vectorizer(np.array(['$AAPL share price falls as new CEO makes a racist comment'])))"
      ],
      "execution_count": null,
      "outputs": [
        {
          "output_type": "execute_result",
          "data": {
            "text/plain": [
              "array([[0.66246927]], dtype=float32)"
            ]
          },
          "metadata": {},
          "execution_count": 20
        }
      ]
    }
  ]
}
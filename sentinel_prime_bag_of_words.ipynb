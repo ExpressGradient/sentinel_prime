{
  "nbformat": 4,
  "nbformat_minor": 0,
  "metadata": {
    "colab": {
      "name": "sentinel_prime_bag_of_words.ipynb",
      "provenance": [],
      "collapsed_sections": [],
      "mount_file_id": "1KiAGfOh0RvUWaI9agREQytsxKCIDQYkK",
      "authorship_tag": "ABX9TyM3t/4IjVse/HoaxJN0JDWq",
      "include_colab_link": true
    },
    "kernelspec": {
      "name": "python3",
      "display_name": "Python 3"
    },
    "language_info": {
      "name": "python"
    },
    "accelerator": "GPU"
  },
  "cells": [
    {
      "cell_type": "markdown",
      "metadata": {
        "id": "view-in-github",
        "colab_type": "text"
      },
      "source": [
        "<a href=\"https://colab.research.google.com/github/ExpressGradient/sentinel_prime/blob/main/sentinel_prime_bag_of_words.ipynb\" target=\"_parent\"><img src=\"https://colab.research.google.com/assets/colab-badge.svg\" alt=\"Open In Colab\"/></a>"
      ]
    },
    {
      "cell_type": "code",
      "metadata": {
        "id": "OqY6Fm9eV2V9"
      },
      "source": [
        "import tensorflow as tf\n",
        "from tensorflow import keras\n",
        "import pandas as pd\n",
        "import numpy as np\n",
        "import math"
      ],
      "execution_count": null,
      "outputs": []
    },
    {
      "cell_type": "code",
      "metadata": {
        "id": "1g2O9xnqNr9j"
      },
      "source": [
        "df = pd.read_csv('drive/My Drive/stock_data.csv')\n",
        "df = df.replace(-1, 0)\n",
        "\n",
        "ds = df.to_numpy()\n",
        "\n",
        "train_ds, test_ds = ds[:math.floor(0.8 * ds.shape[0])], ds[math.floor(0.8 * ds.shape[0]):]\n",
        "\n",
        "train_x, train_y = train_ds[:, 0], train_ds[:, 1]"
      ],
      "execution_count": null,
      "outputs": []
    },
    {
      "cell_type": "code",
      "metadata": {
        "id": "2R_wgSDgPQ_R"
      },
      "source": [
        "text_vectorizer = keras.layers.TextVectorization(\n",
        "    ngrams=2,\n",
        "    max_tokens=10000,\n",
        "    output_mode='multi_hot'\n",
        ")\n",
        "\n",
        "text_vectorizer.adapt(train_x)"
      ],
      "execution_count": null,
      "outputs": []
    },
    {
      "cell_type": "code",
      "metadata": {
        "id": "3ch7qpdSTAkN"
      },
      "source": [
        "bigram_train_x = text_vectorizer(train_x)\n",
        "\n",
        "model = keras.Sequential([\n",
        "                          keras.layers.Dense(32, activation='relu'),\n",
        "                          keras.layers.Dropout(0.3),\n",
        "                          keras.layers.Dense(32, activation='relu'),\n",
        "                          keras.layers.Dropout(0.3),\n",
        "                          keras.layers.Dense(1, activation='sigmoid')\n",
        "])"
      ],
      "execution_count": null,
      "outputs": []
    },
    {
      "cell_type": "code",
      "metadata": {
        "id": "o7lV7cQkT2VD"
      },
      "source": [
        "model.compile(optimizer='rmsprop', loss='binary_crossentropy', metrics=['accuracy'])"
      ],
      "execution_count": null,
      "outputs": []
    },
    {
      "cell_type": "code",
      "metadata": {
        "colab": {
          "base_uri": "https://localhost:8080/"
        },
        "id": "GNC1h9EXUA6C",
        "outputId": "b6cccfd4-f92b-42fd-c203-bf2c6ed33e52"
      },
      "source": [
        "model.fit(bigram_train_x, train_y.astype('float32'), epochs=3, validation_split=0.2)"
      ],
      "execution_count": null,
      "outputs": [
        {
          "output_type": "stream",
          "name": "stdout",
          "text": [
            "Epoch 1/3\n",
            "116/116 [==============================] - 2s 7ms/step - loss: 0.5968 - accuracy: 0.6796 - val_loss: 0.5576 - val_accuracy: 0.7044\n",
            "Epoch 2/3\n",
            "116/116 [==============================] - 1s 6ms/step - loss: 0.4392 - accuracy: 0.7960 - val_loss: 0.5037 - val_accuracy: 0.7519\n",
            "Epoch 3/3\n",
            "116/116 [==============================] - 1s 6ms/step - loss: 0.3052 - accuracy: 0.8837 - val_loss: 0.5126 - val_accuracy: 0.7638\n"
          ]
        },
        {
          "output_type": "execute_result",
          "data": {
            "text/plain": [
              "<keras.callbacks.History at 0x7f9adb23ca90>"
            ]
          },
          "metadata": {},
          "execution_count": 15
        }
      ]
    },
    {
      "cell_type": "code",
      "metadata": {
        "colab": {
          "base_uri": "https://localhost:8080/"
        },
        "id": "piEJsxlcV9C8",
        "outputId": "22fcc13e-c778-42b0-e9f3-c55cb70389e7"
      },
      "source": [
        "test_x, test_y = test_ds[:, 0], test_ds[:, 1]\n",
        "bigram_test_x = text_vectorizer(test_x)\n",
        "\n",
        "model.evaluate(bigram_test_x, test_y.astype('float32'))"
      ],
      "execution_count": null,
      "outputs": [
        {
          "output_type": "stream",
          "name": "stdout",
          "text": [
            "37/37 [==============================] - 0s 4ms/step - loss: 0.7461 - accuracy: 0.6057\n"
          ]
        },
        {
          "output_type": "execute_result",
          "data": {
            "text/plain": [
              "[0.7461023330688477, 0.605694591999054]"
            ]
          },
          "metadata": {},
          "execution_count": 16
        }
      ]
    },
    {
      "cell_type": "code",
      "metadata": {
        "colab": {
          "base_uri": "https://localhost:8080/"
        },
        "id": "fyeMPr6CW0nw",
        "outputId": "311e5a81-6df3-40f1-fd0b-ba9e7d5ad47a"
      },
      "source": [
        "model.predict(text_vectorizer(np.array(['$TSLA shares skyrocket.'])))"
      ],
      "execution_count": null,
      "outputs": [
        {
          "output_type": "execute_result",
          "data": {
            "text/plain": [
              "array([[0.72926784]], dtype=float32)"
            ]
          },
          "metadata": {},
          "execution_count": 17
        }
      ]
    },
    {
      "cell_type": "code",
      "metadata": {
        "colab": {
          "base_uri": "https://localhost:8080/"
        },
        "id": "kWgCscvZhA13",
        "outputId": "4c9de575-36e8-4bd3-9a51-effb16a89f49"
      },
      "source": [
        "model.save('drive/My Drive/sentinel_prime')"
      ],
      "execution_count": null,
      "outputs": [
        {
          "output_type": "stream",
          "name": "stdout",
          "text": [
            "INFO:tensorflow:Assets written to: drive/My Drive/sentinel_prime/assets\n"
          ]
        }
      ]
    }
  ]
}